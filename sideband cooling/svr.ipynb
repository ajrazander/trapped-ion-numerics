{
 "cells": [
  {
   "cell_type": "markdown",
   "metadata": {},
   "source": [
    "# ML for optimal sideband cooling\n",
    "There are two optimization in multiorder sideband cooling: pulse schedule (time of each laser pulse) and what order RSB is applied.\n",
    "\n",
    "1) Optimal sideband cooling pulse times can take a long time to compute, but funcitonally they look quite smooth and only rely on a few easily measured/calculated parameters. Could machine learning bridge the gap instead of a direct minimzation?\n",
    "\n",
    "2) Determining when to apply what order RSB is an exponentially hard problem, yet it seems to follow a \"block\" ordering (highest orders first; first-order last). Can ML be used to estimate the optimal sequence of RSB orders instead of brute force optimizing over an exponential problem?\n",
    "\n",
    "What ML models should we use? Neural Network would work, but since we want to predict a varying number of pulse timings, the number of output nodes would need to vary as well. That doesn't sound like a good fit.\n",
    "\n",
    "SVM is a rising trend. We could use the regression version SVR to predict pulse times of a fixed strategy."
   ]
  },
  {
   "cell_type": "code",
   "execution_count": 1,
   "metadata": {},
   "outputs": [],
   "source": [
    "import numpy as np\n",
    "\n",
    "import matplotlib.pyplot as plt\n",
    "\n",
    "from tqdm import tqdm\n",
    "\n",
    "from sklearn import svm, preprocessing\n",
    "from sklearn.model_selection import train_test_split, GridSearchCV\n",
    "\n",
    "from sideband_cooling import simulation"
   ]
  },
  {
   "cell_type": "markdown",
   "metadata": {},
   "source": [
    "## SVR for Fixed method 1st order RSB\n",
    "Predict optimal pulse time given: eta, pi/omega, initial nbar, and number of pulses\n"
   ]
  },
  {
   "cell_type": "markdown",
   "metadata": {},
   "source": [
    "Generate data set"
   ]
  },
  {
   "cell_type": "code",
   "execution_count": 2,
   "metadata": {},
   "outputs": [
    {
     "name": "stderr",
     "output_type": "stream",
     "text": [
      "100%|██████████| 5000/5000 [29:58<00:00,  2.78it/s]\n"
     ]
    }
   ],
   "source": [
    "N_rand = 5000\n",
    "\n",
    "omegas = 2*np.pi * np.linspace(1/(2 * 1e-6), 1/(2 * 50e-6), 100)\n",
    "omega_rands = np.random.choice(omegas, N_rand)\n",
    "\n",
    "# Assume eta and initial nbar are computable from confining harmonic frequency omega_z\n",
    "omega_zs = 2*np.pi * np.linspace(0.25, 6, 100) * 1e6\n",
    "omega_z_rands = np.random.choice(omega_zs, N_rand)\n",
    "\n",
    "lam = 355e-9\n",
    "hbar = 1.05457e-34\n",
    "m = 170.936 * 1.6605e-27\n",
    "eta_rands = np.sqrt(2) * 2*np.pi/lam * np.sqrt(hbar/2/m/omega_z_rands)\n",
    "\n",
    "initial_nbar_rands = 19.6e6/2/(omega_z_rands/2/np.pi)\n",
    "\n",
    "N_pulses_rands = np.random.choice(np.arange(5, 50), N_rand)\n",
    "\n",
    "strategy = 'fixed'\n",
    "cooled_nbars = []\n",
    "pulse_schedules = []\n",
    "for omega_z, initial_nbar, omega, N_pulses in tqdm(zip(omega_z_rands, initial_nbar_rands, omega_rands, N_pulses_rands), total=len(omega_z_rands)):\n",
    "    sim = simulation.SidebandCooling(omega_z, initial_nbar, omega)\n",
    "    cooled_nbar, pulse_schedule, cooling_time, cooled_dist = sim.cool(strategy, N_pulses, 1)\n",
    "    cooled_nbars.append(cooled_nbar)\n",
    "    pulse_schedules.append(pulse_schedule[0])\n",
    "    sim.reset_current_dist()\n",
    "\n",
    "# Simulate and save data\n",
    "pi_times = np.pi / omega_rands\n",
    "dataX = np.column_stack((eta_rands, pi_times, initial_nbar_rands, N_pulses_rands))\n",
    "dataY = np.array(pulse_schedules)"
   ]
  },
  {
   "cell_type": "code",
   "execution_count": 3,
   "metadata": {},
   "outputs": [],
   "source": [
    "# Save data into files\n",
    "with open('data/dataX_fixed.npy', 'wb') as f:\n",
    "    np.save(f, dataX)\n",
    "with open('data/dataY_fixed.npy', 'wb') as f:\n",
    "    np.save(f, dataY)"
   ]
  },
  {
   "cell_type": "code",
   "execution_count": 4,
   "metadata": {},
   "outputs": [],
   "source": [
    "# load saved data\n",
    "with open('data/dataX_fixed.npy', 'rb') as f:\n",
    "    dataX = np.load(f)\n",
    "with open('data/dataY_fixed.npy', 'rb') as f:\n",
    "    dataY = np.load(f)"
   ]
  },
  {
   "cell_type": "markdown",
   "metadata": {},
   "source": [
    "Preprocess data with a 1/3 test-train split and scale X and y"
   ]
  },
  {
   "cell_type": "code",
   "execution_count": 5,
   "metadata": {},
   "outputs": [],
   "source": [
    "# Preprocess data\n",
    "X_train, X_test, y_train, y_test = train_test_split(dataX, dataY, test_size=0.33, random_state=42)\n",
    "\n",
    "scalerX = preprocessing.StandardScaler().fit(X_train)\n",
    "scalery = preprocessing.StandardScaler().fit(y_train.reshape(-1,1))\n",
    "X_train = scalerX.transform(X_train)\n",
    "y_train = (scalery.transform(y_train.reshape(-1,1))).reshape(-1,)\n",
    "X_test = scalerX.transform(X_test)\n",
    "y_test = (scalery.transform(y_test.reshape(-1,1))).reshape(-1,)\n"
   ]
  },
  {
   "cell_type": "markdown",
   "metadata": {},
   "source": [
    "Use cross-validation to tune SVR hyperparameters"
   ]
  },
  {
   "cell_type": "code",
   "execution_count": 6,
   "metadata": {},
   "outputs": [
    {
     "name": "stdout",
     "output_type": "stream",
     "text": [
      "0.9302 (+/-0.0156) for {'C': 10, 'gamma': 0.005, 'kernel': 'rbf'}\n",
      "0.9509 (+/-0.0095) for {'C': 10, 'gamma': 0.0075, 'kernel': 'rbf'}\n",
      "0.9649 (+/-0.0099) for {'C': 10, 'gamma': 0.01, 'kernel': 'rbf'}\n",
      "0.9788 (+/-0.0108) for {'C': 10, 'gamma': 0.02, 'kernel': 'rbf'}\n",
      "0.9835 (+/-0.0098) for {'C': 10, 'gamma': 0.03, 'kernel': 'rbf'}\n",
      "0.9856 (+/-0.0106) for {'C': 10, 'gamma': 0.04, 'kernel': 'rbf'}\n",
      "0.9784 (+/-0.0080) for {'C': 100, 'gamma': 0.005, 'kernel': 'rbf'}\n",
      "0.9830 (+/-0.0040) for {'C': 100, 'gamma': 0.0075, 'kernel': 'rbf'}\n",
      "0.9861 (+/-0.0034) for {'C': 100, 'gamma': 0.01, 'kernel': 'rbf'}\n",
      "0.9921 (+/-0.0052) for {'C': 100, 'gamma': 0.02, 'kernel': 'rbf'}\n",
      "0.9933 (+/-0.0049) for {'C': 100, 'gamma': 0.03, 'kernel': 'rbf'}\n",
      "0.9949 (+/-0.0028) for {'C': 100, 'gamma': 0.04, 'kernel': 'rbf'}\n",
      "0.9890 (+/-0.0044) for {'C': 1000, 'gamma': 0.005, 'kernel': 'rbf'}\n",
      "0.9929 (+/-0.0034) for {'C': 1000, 'gamma': 0.0075, 'kernel': 'rbf'}\n",
      "0.9938 (+/-0.0031) for {'C': 1000, 'gamma': 0.01, 'kernel': 'rbf'}\n",
      "0.9948 (+/-0.0047) for {'C': 1000, 'gamma': 0.02, 'kernel': 'rbf'}\n",
      "0.9965 (+/-0.0011) for {'C': 1000, 'gamma': 0.03, 'kernel': 'rbf'}\n",
      "0.9935 (+/-0.0069) for {'C': 1000, 'gamma': 0.04, 'kernel': 'rbf'}\n",
      "0.9941 (+/-0.0026) for {'C': 5000, 'gamma': 0.005, 'kernel': 'rbf'}\n",
      "0.9949 (+/-0.0016) for {'C': 5000, 'gamma': 0.0075, 'kernel': 'rbf'}\n",
      "0.9943 (+/-0.0056) for {'C': 5000, 'gamma': 0.01, 'kernel': 'rbf'}\n",
      "0.9963 (+/-0.0023) for {'C': 5000, 'gamma': 0.02, 'kernel': 'rbf'}\n",
      "0.9908 (+/-0.0151) for {'C': 5000, 'gamma': 0.03, 'kernel': 'rbf'}\n",
      "0.9877 (+/-0.0221) for {'C': 5000, 'gamma': 0.04, 'kernel': 'rbf'}\n",
      "0.9948 (+/-0.0020) for {'C': 10000, 'gamma': 0.005, 'kernel': 'rbf'}\n",
      "0.9943 (+/-0.0055) for {'C': 10000, 'gamma': 0.0075, 'kernel': 'rbf'}\n",
      "0.9932 (+/-0.0138) for {'C': 10000, 'gamma': 0.01, 'kernel': 'rbf'}\n",
      "0.9954 (+/-0.0042) for {'C': 10000, 'gamma': 0.02, 'kernel': 'rbf'}\n",
      "0.9865 (+/-0.0265) for {'C': 10000, 'gamma': 0.03, 'kernel': 'rbf'}\n",
      "0.9884 (+/-0.0180) for {'C': 10000, 'gamma': 0.04, 'kernel': 'rbf'}\n",
      "Best parameters set found on development set:\n",
      "\n",
      "{'C': 1000, 'gamma': 0.03, 'kernel': 'rbf'} \n",
      "\n",
      "Grid scores on development set:\n",
      "\n"
     ]
    }
   ],
   "source": [
    "svr = svm.SVR()\n",
    "\n",
    "# select variety of SVR hyperparameters to try out\n",
    "param_grid = [{'C': [10, 100, 1000, 5000, 10000], 'gamma': [0.005, 0.0075, 0.01, 0.02, 0.03, 0.04], 'kernel': ['rbf']}]\n",
    "svr_grid = GridSearchCV(svr, param_grid, scoring='r2')\n",
    "svr_grid.fit(X_train, y_train)\n",
    "\n",
    "means = svr_grid.cv_results_['mean_test_score']\n",
    "stds = svr_grid.cv_results_['std_test_score']\n",
    "for mean, std, params in zip(means, stds, svr_grid.cv_results_['params']):\n",
    "    print(\"%0.4f (+/-%0.04f) for %r\"\n",
    "          % (mean, std * 2, params))\n",
    "print(\"Best parameters set found on development set:\\n\")\n",
    "print(svr_grid.best_params_,\"\\n\")\n",
    "print(\"Grid scores on development set:\\n\")"
   ]
  },
  {
   "cell_type": "code",
   "execution_count": 7,
   "metadata": {},
   "outputs": [],
   "source": [
    "# Save otpimal hyperparameters, train, and predict on test data\n",
    "gamma_opt = svr_grid.best_params_['gamma']\n",
    "C_opt = svr_grid.best_params_['C']\n",
    "\n",
    "# train SVR on training data\n",
    "svr = svm.SVR(C=C_opt, gamma=gamma_opt)\n",
    "svr.fit(X_train, y_train)\n",
    "\n",
    "# compute predictions on test data\n",
    "preds = svr.predict(X_test)"
   ]
  },
  {
   "cell_type": "markdown",
   "metadata": {},
   "source": [
    "Analyze model's predictions on test data"
   ]
  },
  {
   "cell_type": "code",
   "execution_count": 8,
   "metadata": {},
   "outputs": [
    {
     "data": {
      "image/png": "[encoded data removed]",
      "text/plain": [
       "<Figure size 504x468 with 1 Axes>"
      ]
     },
     "metadata": {
      "needs_background": "light"
     },
     "output_type": "display_data"
    },
    {
     "data": {
      "image/png": "[encoded data removed]",
      "text/plain": [
       "<Figure size 504x216 with 1 Axes>"
      ]
     },
     "metadata": {
      "needs_background": "light"
     },
     "output_type": "display_data"
    },
    {
     "name": "stdout",
     "output_type": "stream",
     "text": [
      "root mean square 1.7752673544436421e-06\n",
      "average relative error 0.18181880715604146 +/- 0.21696474857233597\n",
      "r squared 0.996841759404643\n"
     ]
    }
   ],
   "source": [
    "# convert scale predictions and ys back\n",
    "preds_times = scalery.inverse_transform(preds)\n",
    "y_test_times = scalery.inverse_transform(y_test)\n",
    "\n",
    "plt.figure(figsize=(7,6.5))\n",
    "plt.scatter(y_test_times*1e6, preds_times*1e6)\n",
    "plt.plot(preds_times*1e6 , preds_times*1e6, '-r')\n",
    "plt.xlabel(r'exact ($\\mu$s)')\n",
    "plt.ylabel(r'prediction ($\\mu$s)')\n",
    "plt.title('SVR pred vs actual')\n",
    "plt.grid()\n",
    "plt.show()\n",
    "\n",
    "rel_errors = np.abs((preds_times - y_test_times)/y_test_times)\n",
    "\n",
    "plt.figure(figsize=(7,3))\n",
    "plt.scatter(y_test_times*1e6, rel_errors)\n",
    "plt.title('Relative error between exact and prediction')\n",
    "plt.xlabel(r'exact ($\\mu$s)')\n",
    "plt.ylabel('relative error')\n",
    "plt.yscale('log')\n",
    "plt.grid()\n",
    "plt.show()\n",
    "\n",
    "print('root mean square', np.sqrt(np.mean((y_test_times - preds_times)**2)))\n",
    "print('average relative error', np.mean(rel_errors), '+/-', np.std(rel_errors))\n",
    "correlation_matrix = np.corrcoef(y_test_times, preds_times)\n",
    "correlation_xy = correlation_matrix[0,1]\n",
    "r_squared = correlation_xy**2\n",
    "print('r squared', r_squared)"
   ]
  },
  {
   "cell_type": "markdown",
   "metadata": {},
   "source": [
    "## SVR for first-order optimal\n",
    "Optimal is a bit tricky with ML models because for different numbers of pulses, the output pulse schedule has a different length with unique values. One way to account for this is to pad the training data outputs with zeros. Unfortunately, this will limit the model to the number of pulses considered in the training set and won't be able to extrapolate to higher numbers of pulses."
   ]
  },
  {
   "cell_type": "code",
   "execution_count": 9,
   "metadata": {},
   "outputs": [
    {
     "name": "stderr",
     "output_type": "stream",
     "text": [
      "100%|██████████| 100/100 [1:41:58<00:00, 61.18s/it] \n"
     ]
    }
   ],
   "source": [
    "N_rand = 100\n",
    "\n",
    "omegas = 2*np.pi * np.linspace(1/(2 * 1e-6), 1/(2 * 50e-6), 100)\n",
    "omega_rands = np.random.choice(omegas, N_rand)\n",
    "\n",
    "# Assume eta and initial nbar are computable from confining harmonic frequency omega_z\n",
    "omega_zs = 2*np.pi * np.linspace(0.25, 4, 100) * 1e6\n",
    "omega_z_rands = np.random.choice(omega_zs, N_rand)\n",
    "\n",
    "lam = 355e-9\n",
    "hbar = 1.05457e-34\n",
    "m = 170.936 * 1.6605e-27\n",
    "eta_rands = np.sqrt(2) * 2*np.pi/lam * np.sqrt(hbar/2/m/omega_z_rands)\n",
    "\n",
    "initial_nbar_rands = 19.6e6/2/(omega_z_rands/2/np.pi)\n",
    "\n",
    "N_pulses_rands = np.random.choice(np.arange(5, 40), N_rand)\n",
    "\n",
    "strategy = 'optimal'\n",
    "cooled_nbars = []\n",
    "pulse_schedules = []\n",
    "for omega_z, initial_nbar, omega, N_pulses in tqdm(zip(omega_z_rands, initial_nbar_rands, omega_rands, N_pulses_rands), total=len(omega_z_rands)):\n",
    "    sim = simulation.SidebandCooling(omega_z, initial_nbar, omega)\n",
    "    cooled_nbar, pulse_schedule, cooling_time, cooled_dist = sim.cool(strategy, N_pulses, 1)\n",
    "    cooled_nbars.append(cooled_nbar)\n",
    "    pulse_schedules.append(pulse_schedule[0])\n",
    "    sim.reset_current_dist()\n",
    "\n",
    "# Simulate and save data\n",
    "pi_times = np.pi / omega_rands\n",
    "dataX = np.column_stack((eta_rands, pi_times, initial_nbar_rands, N_pulses_rands))\n",
    "dataY = np.array(pulse_schedules)"
   ]
  },
  {
   "cell_type": "code",
   "execution_count": 41,
   "metadata": {},
   "outputs": [],
   "source": [
    "# Save data into files\n",
    "with open('data/dataX_opt.npy', 'wb') as f:\n",
    "    np.save(f, dataX)\n",
    "with open('data/dataY_opt.npy', 'wb') as f:\n",
    "    np.save(f, dataY)"
   ]
  },
  {
   "cell_type": "code",
   "execution_count": 42,
   "metadata": {},
   "outputs": [],
   "source": [
    "# load saved data\n",
    "with open('data/dataX_opt.npy', 'rb') as f:\n",
    "    dataX = np.load(f)\n",
    "with open('data/dataY_opt.npy', 'rb') as f:\n",
    "    dataY = np.load(f)"
   ]
  },
  {
   "cell_type": "markdown",
   "metadata": {},
   "source": [
    "Preprocess data with a 1/3 test-train split and scale X and y"
   ]
  },
  {
   "cell_type": "code",
   "execution_count": 43,
   "metadata": {},
   "outputs": [],
   "source": [
    "# Preprocess data\n",
    "X_train, X_test, y_train, y_test = train_test_split(dataX, dataY, test_size=0.33, random_state=42)\n",
    "\n",
    "scalerX = preprocessing.StandardScaler().fit(X_train)\n",
    "scalery = preprocessing.StandardScaler().fit(y_train.reshape(-1,1))\n",
    "X_train = scalerX.transform(X_train)\n",
    "y_train = (scalery.transform(y_train.reshape(-1,1))).reshape(-1,)\n",
    "X_test = scalerX.transform(X_test)\n",
    "y_test = (scalery.transform(y_test.reshape(-1,1))).reshape(-1,)\n"
   ]
  },
  {
   "cell_type": "markdown",
   "metadata": {},
   "source": [
    "Use cross-validation to tune SVR hyperparameters"
   ]
  },
  {
   "cell_type": "code",
   "execution_count": 44,
   "metadata": {},
   "outputs": [
    {
     "name": "stdout",
     "output_type": "stream",
     "text": [
      "0.4721 (+/-0.7148) for {'C': 10, 'gamma': 0.005, 'kernel': 'rbf'}\n",
      "0.5144 (+/-0.6518) for {'C': 10, 'gamma': 0.0075, 'kernel': 'rbf'}\n",
      "0.5520 (+/-0.6100) for {'C': 10, 'gamma': 0.01, 'kernel': 'rbf'}\n",
      "0.6376 (+/-0.5655) for {'C': 10, 'gamma': 0.02, 'kernel': 'rbf'}\n",
      "0.6655 (+/-0.5669) for {'C': 10, 'gamma': 0.03, 'kernel': 'rbf'}\n",
      "0.6490 (+/-0.5536) for {'C': 10, 'gamma': 0.04, 'kernel': 'rbf'}\n",
      "0.6402 (+/-0.5698) for {'C': 100, 'gamma': 0.005, 'kernel': 'rbf'}\n",
      "0.6880 (+/-0.5809) for {'C': 100, 'gamma': 0.0075, 'kernel': 'rbf'}\n",
      "0.6945 (+/-0.5770) for {'C': 100, 'gamma': 0.01, 'kernel': 'rbf'}\n",
      "0.7023 (+/-0.5287) for {'C': 100, 'gamma': 0.02, 'kernel': 'rbf'}\n",
      "0.6775 (+/-0.4979) for {'C': 100, 'gamma': 0.03, 'kernel': 'rbf'}\n",
      "0.6291 (+/-0.4831) for {'C': 100, 'gamma': 0.04, 'kernel': 'rbf'}\n",
      "0.5787 (+/-0.5700) for {'C': 1000, 'gamma': 0.005, 'kernel': 'rbf'}\n",
      "0.6915 (+/-0.4817) for {'C': 1000, 'gamma': 0.0075, 'kernel': 'rbf'}\n",
      "0.6890 (+/-0.4834) for {'C': 1000, 'gamma': 0.01, 'kernel': 'rbf'}\n",
      "0.2995 (+/-1.3035) for {'C': 1000, 'gamma': 0.02, 'kernel': 'rbf'}\n",
      "-0.8384 (+/-5.0297) for {'C': 1000, 'gamma': 0.03, 'kernel': 'rbf'}\n",
      "-0.9863 (+/-5.3623) for {'C': 1000, 'gamma': 0.04, 'kernel': 'rbf'}\n",
      "0.6471 (+/-0.4599) for {'C': 5000, 'gamma': 0.005, 'kernel': 'rbf'}\n",
      "0.5666 (+/-0.5326) for {'C': 5000, 'gamma': 0.0075, 'kernel': 'rbf'}\n",
      "0.0048 (+/-2.4468) for {'C': 5000, 'gamma': 0.01, 'kernel': 'rbf'}\n",
      "-5.3098 (+/-21.2442) for {'C': 5000, 'gamma': 0.02, 'kernel': 'rbf'}\n",
      "-2.2466 (+/-9.1956) for {'C': 5000, 'gamma': 0.03, 'kernel': 'rbf'}\n",
      "-0.3952 (+/-2.9218) for {'C': 5000, 'gamma': 0.04, 'kernel': 'rbf'}\n",
      "0.6759 (+/-0.4611) for {'C': 10000, 'gamma': 0.005, 'kernel': 'rbf'}\n",
      "-0.1902 (+/-3.2077) for {'C': 10000, 'gamma': 0.0075, 'kernel': 'rbf'}\n",
      "-3.3429 (+/-15.2814) for {'C': 10000, 'gamma': 0.01, 'kernel': 'rbf'}\n",
      "-8.7140 (+/-33.5970) for {'C': 10000, 'gamma': 0.02, 'kernel': 'rbf'}\n",
      "-1.2382 (+/-4.6203) for {'C': 10000, 'gamma': 0.03, 'kernel': 'rbf'}\n",
      "-1.1759 (+/-4.8347) for {'C': 10000, 'gamma': 0.04, 'kernel': 'rbf'}\n",
      "Best parameters set found on development set:\n",
      "\n",
      "{'C': 100, 'gamma': 0.02, 'kernel': 'rbf'} \n",
      "\n",
      "Grid scores on development set:\n",
      "\n"
     ]
    }
   ],
   "source": [
    "svr = svm.SVR()\n",
    "\n",
    "# select variety of SVR hyperparameters to try out\n",
    "param_grid = [{'C': [10, 100, 1000, 5000, 10000], 'gamma': [0.005, 0.0075, 0.01, 0.02, 0.03, 0.04], 'kernel': ['rbf']}]\n",
    "svr_grid = GridSearchCV(svr, param_grid, scoring='r2')\n",
    "svr_grid.fit(X_train, y_train)\n",
    "\n",
    "means = svr_grid.cv_results_['mean_test_score']\n",
    "stds = svr_grid.cv_results_['std_test_score']\n",
    "for mean, std, params in zip(means, stds, svr_grid.cv_results_['params']):\n",
    "    print(\"%0.4f (+/-%0.04f) for %r\"\n",
    "          % (mean, std * 2, params))\n",
    "print(\"Best parameters set found on development set:\\n\")\n",
    "print(svr_grid.best_params_,\"\\n\")\n",
    "print(\"Grid scores on development set:\\n\")"
   ]
  },
  {
   "cell_type": "code",
   "execution_count": 45,
   "metadata": {},
   "outputs": [],
   "source": [
    "# Save otpimal hyperparameters, train, and predict on test data\n",
    "gamma_opt = svr_grid.best_params_['gamma']\n",
    "C_opt = svr_grid.best_params_['C']\n",
    "\n",
    "# train SVR on training data\n",
    "svr = svm.SVR(C=C_opt, gamma=gamma_opt)\n",
    "svr.fit(X_train, y_train)\n",
    "\n",
    "# compute predictions on test data\n",
    "preds = svr.predict(X_test)"
   ]
  },
  {
   "cell_type": "code",
   "execution_count": 46,
   "metadata": {},
   "outputs": [
    {
     "data": {
      "image/png": "[encoded data removed]",
      "text/plain": [
       "<Figure size 504x468 with 1 Axes>"
      ]
     },
     "metadata": {
      "needs_background": "light"
     },
     "output_type": "display_data"
    },
    {
     "data": {
      "image/png": "[encoded data removed]",
      "text/plain": [
       "<Figure size 504x216 with 1 Axes>"
      ]
     },
     "metadata": {
      "needs_background": "light"
     },
     "output_type": "display_data"
    },
    {
     "name": "stdout",
     "output_type": "stream",
     "text": [
      "root mean square 9.523909777376998e-06\n",
      "average relative error 1.5962691939985807 +/- 2.025396394052223\n",
      "r squared 0.724137869665327\n"
     ]
    }
   ],
   "source": [
    "# convert scale predictions and ys back\n",
    "preds_times = scalery.inverse_transform(preds)\n",
    "y_test_times = scalery.inverse_transform(y_test)\n",
    "\n",
    "plt.figure(figsize=(7,6.5))\n",
    "plt.scatter(y_test_times*1e6, preds_times*1e6)\n",
    "plt.plot(preds_times*1e6 , preds_times*1e6, '-r')\n",
    "plt.xlabel(r'exact ($\\mu$s)')\n",
    "plt.ylabel(r'prediction ($\\mu$s)')\n",
    "plt.title('SVR pred vs actual')\n",
    "plt.grid()\n",
    "plt.show()\n",
    "\n",
    "rel_errors = np.abs((preds_times - y_test_times)/y_test_times)\n",
    "\n",
    "plt.figure(figsize=(7,3))\n",
    "plt.scatter(y_test_times*1e6, rel_errors)\n",
    "plt.title('Relative error between exact and prediction')\n",
    "plt.xlabel(r'exact ($\\mu$s)')\n",
    "plt.ylabel('relative error')\n",
    "plt.yscale('log')\n",
    "plt.grid()\n",
    "plt.show()\n",
    "\n",
    "print('root mean square', np.sqrt(np.mean((y_test_times - preds_times)**2)))\n",
    "print('average relative error', np.mean(rel_errors), '+/-', np.std(rel_errors))\n",
    "correlation_matrix = np.corrcoef(y_test_times, preds_times)\n",
    "correlation_xy = correlation_matrix[0,1]\n",
    "r_squared = correlation_xy**2\n",
    "print('r squared', r_squared)"
   ]
  },
  {
   "cell_type": "code",
   "execution_count": null,
   "metadata": {},
   "outputs": [],
   "source": []
  }
 ],
 "metadata": {
  "kernelspec": {
   "display_name": "Python 3",
   "language": "python",
   "name": "python3"
  },
  "language_info": {
   "codemirror_mode": {
    "name": "ipython",
    "version": 3
   },
   "file_extension": ".py",
   "mimetype": "text/x-python",
   "name": "python",
   "nbconvert_exporter": "python",
   "pygments_lexer": "ipython3",
   "version": "3.8.5"
  }
 },
 "nbformat": 4,
 "nbformat_minor": 4
}
