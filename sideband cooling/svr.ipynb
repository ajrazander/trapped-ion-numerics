{
 "cells": [
  {
   "cell_type": "markdown",
   "metadata": {},
   "source": [
    "# ML for optimal sideband cooling\n",
    "There are two optimization in multiorder sideband cooling: pulse schedule (time of each laser pulse) and what order RSB is applied.\n",
    "\n",
    "1) Optimal sideband cooling pulse times can take a long time to compute, but funcitonally they look quite smooth and only rely on a few easily measured/calculated parameters. Could machine learning bridge the gap instead of a direct minimzation?\n",
    "\n",
    "2) Determining when to apply what order RSB is an exponentially hard problem, yet it seems to follow a \"block\" ordering (highest orders first; first-order last). Can ML be used to estimate the optimal sequence of RSB orders instead of brute force optimizing over an exponential problem?\n",
    "\n",
    "What ML models should we use? Neural Network would work, but since we want to predict a varying number of pulse timings, the number of output nodes would need to vary as well. That doesn't sound like a good fit.\n",
    "\n",
    "SVM is a rising trend. We could use the regression version SVR to predict pulse times of a fixed strategy."
   ]
  },
  {
   "cell_type": "code",
   "execution_count": 3,
   "metadata": {},
   "outputs": [],
   "source": [
    "import numpy as np\n",
    "\n",
    "import matplotlib.pyplot as plt\n",
    "\n",
    "from tqdm import tqdm\n",
    "\n",
    "from sklearn import svm, preprocessing\n",
    "from sklearn.model_selection import train_test_split, GridSearchCV\n",
    "\n",
    "from sideband_cooling import simulation"
   ]
  },
  {
   "cell_type": "markdown",
   "metadata": {},
   "source": [
    "## SVR for Fixed method 1st order RSB\n",
    "Predict optimal pulse time given: eta, pi/omega, initial nbar, and number of pulses\n"
   ]
  },
  {
   "cell_type": "markdown",
   "metadata": {},
   "source": [
    "Generate data set"
   ]
  },
  {
   "cell_type": "code",
   "execution_count": 19,
   "metadata": {},
   "outputs": [
    {
     "name": "stderr",
     "output_type": "stream",
     "text": [
      "100%|██████████| 5000/5000 [30:22<00:00,  2.74it/s]\n"
     ]
    }
   ],
   "source": [
    "N_rand = 5000\n",
    "\n",
    "omegas = 2*np.pi * np.linspace(1/(2 * 1e-6), 1/(2 * 50e-6), 100)\n",
    "omega_rands = np.random.choice(omegas, N_rand)\n",
    "\n",
    "# Assume eta and initial nbar are computable from confining harmonic frequency omega_z\n",
    "omega_zs = 2*np.pi * np.linspace(0.25, 6, 100) * 1e6\n",
    "omega_z_rands = np.random.choice(omega_zs, N_rand)\n",
    "\n",
    "lam = 355e-9\n",
    "hbar = 1.05457e-34\n",
    "m = 170.936 * 1.6605e-27\n",
    "eta_rands = np.sqrt(2) * 2*np.pi/lam * np.sqrt(hbar/2/m/omega_z_rands)\n",
    "\n",
    "initial_nbar_rands = 19.6e6/2/(omega_z_rands/2/np.pi)\n",
    "\n",
    "N_pulses_rands = np.random.choice(np.arange(5, 50), N_rand)\n",
    "\n",
    "strategy = 'fixed'\n",
    "cooled_nbars = []\n",
    "pulse_schedules = []\n",
    "for omega_z, initial_nbar, omega, N_pulses in tqdm(zip(omega_z_rands, initial_nbar_rands, omega_rands, N_pulses_rands), total=len(omega_z_rands)):\n",
    "    sim = simulation.SidebandCooling(omega_z, initial_nbar, omega)\n",
    "    cooled_nbar, pulse_schedule, cooling_time, cooled_dist = sim.cool(strategy, N_pulses, 1)\n",
    "    cooled_nbars.append(cooled_nbar)\n",
    "    pulse_schedules.append(pulse_schedule[0])\n",
    "    sim.reset_current_dist()\n",
    "\n",
    "# Simulate and save data\n",
    "pi_times = np.pi / omega_rands\n",
    "dataX = np.column_stack((eta_rands, pi_times, initial_nbar_rands, N_pulses_rands))\n",
    "dataY = np.array(pulse_schedules)"
   ]
  },
  {
   "cell_type": "code",
   "execution_count": 21,
   "metadata": {},
   "outputs": [],
   "source": [
    "# Save data into files\n",
    "with open('data/dataX_fixed.npy', 'wb') as f:\n",
    "    np.save(f, dataX)\n",
    "with open('data/dataY_fixed.npy', 'wb') as f:\n",
    "    np.save(f, dataY)"
   ]
  },
  {
   "cell_type": "code",
   "execution_count": 22,
   "metadata": {},
   "outputs": [],
   "source": [
    "# load saved data\n",
    "with open('data/dataX_fixed.npy', 'rb') as f:\n",
    "    dataX = np.load(f)\n",
    "with open('data/dataY_fixed.npy', 'rb') as f:\n",
    "    dataY = np.load(f)"
   ]
  },
  {
   "cell_type": "markdown",
   "metadata": {},
   "source": [
    "Preprocess data with a 1/3 test-train split and scale X and y"
   ]
  },
  {
   "cell_type": "code",
   "execution_count": 23,
   "metadata": {},
   "outputs": [],
   "source": [
    "# Preprocess data\n",
    "X_train, X_test, y_train, y_test = train_test_split(dataX, dataY, test_size=0.33, random_state=42)\n",
    "\n",
    "scalerX = preprocessing.StandardScaler().fit(X_train)\n",
    "scalery = preprocessing.StandardScaler().fit(y_train.reshape(-1,1))\n",
    "X_train = scalerX.transform(X_train)\n",
    "y_train = (scalery.transform(y_train.reshape(-1,1))).reshape(-1,)\n",
    "X_test = scalerX.transform(X_test)\n",
    "y_test = (scalery.transform(y_test.reshape(-1,1))).reshape(-1,)\n"
   ]
  },
  {
   "cell_type": "markdown",
   "metadata": {},
   "source": [
    "Use cross-validation to tune SVR hyperparameters"
   ]
  },
  {
   "cell_type": "code",
   "execution_count": 26,
   "metadata": {},
   "outputs": [
    {
     "name": "stdout",
     "output_type": "stream",
     "text": [
      "0.9527 (+/-0.0121) for {'C': 10, 'gamma': 0.005, 'kernel': 'rbf'}\n",
      "0.9661 (+/-0.0075) for {'C': 10, 'gamma': 0.0075, 'kernel': 'rbf'}\n",
      "0.9743 (+/-0.0029) for {'C': 10, 'gamma': 0.01, 'kernel': 'rbf'}\n",
      "0.9857 (+/-0.0021) for {'C': 10, 'gamma': 0.02, 'kernel': 'rbf'}\n",
      "0.9890 (+/-0.0020) for {'C': 10, 'gamma': 0.03, 'kernel': 'rbf'}\n",
      "0.9904 (+/-0.0023) for {'C': 10, 'gamma': 0.04, 'kernel': 'rbf'}\n",
      "0.9832 (+/-0.0021) for {'C': 100, 'gamma': 0.005, 'kernel': 'rbf'}\n",
      "0.9872 (+/-0.0026) for {'C': 100, 'gamma': 0.0075, 'kernel': 'rbf'}\n",
      "0.9895 (+/-0.0029) for {'C': 100, 'gamma': 0.01, 'kernel': 'rbf'}\n",
      "0.9932 (+/-0.0025) for {'C': 100, 'gamma': 0.02, 'kernel': 'rbf'}\n",
      "0.9954 (+/-0.0012) for {'C': 100, 'gamma': 0.03, 'kernel': 'rbf'}\n",
      "0.9955 (+/-0.0017) for {'C': 100, 'gamma': 0.04, 'kernel': 'rbf'}\n",
      "0.9914 (+/-0.0039) for {'C': 1000, 'gamma': 0.005, 'kernel': 'rbf'}\n",
      "0.9932 (+/-0.0043) for {'C': 1000, 'gamma': 0.0075, 'kernel': 'rbf'}\n",
      "0.9945 (+/-0.0018) for {'C': 1000, 'gamma': 0.01, 'kernel': 'rbf'}\n",
      "0.9956 (+/-0.0028) for {'C': 1000, 'gamma': 0.02, 'kernel': 'rbf'}\n",
      "0.9937 (+/-0.0075) for {'C': 1000, 'gamma': 0.03, 'kernel': 'rbf'}\n",
      "0.9946 (+/-0.0048) for {'C': 1000, 'gamma': 0.04, 'kernel': 'rbf'}\n",
      "0.9947 (+/-0.0031) for {'C': 5000, 'gamma': 0.005, 'kernel': 'rbf'}\n",
      "0.9959 (+/-0.0013) for {'C': 5000, 'gamma': 0.0075, 'kernel': 'rbf'}\n",
      "0.9966 (+/-0.0013) for {'C': 5000, 'gamma': 0.01, 'kernel': 'rbf'}\n",
      "0.9931 (+/-0.0126) for {'C': 5000, 'gamma': 0.02, 'kernel': 'rbf'}\n",
      "0.9961 (+/-0.0030) for {'C': 5000, 'gamma': 0.03, 'kernel': 'rbf'}\n",
      "0.9953 (+/-0.0031) for {'C': 5000, 'gamma': 0.04, 'kernel': 'rbf'}\n",
      "0.9954 (+/-0.0020) for {'C': 10000, 'gamma': 0.005, 'kernel': 'rbf'}\n",
      "0.9965 (+/-0.0013) for {'C': 10000, 'gamma': 0.0075, 'kernel': 'rbf'}\n",
      "0.9961 (+/-0.0023) for {'C': 10000, 'gamma': 0.01, 'kernel': 'rbf'}\n",
      "0.9940 (+/-0.0088) for {'C': 10000, 'gamma': 0.02, 'kernel': 'rbf'}\n",
      "0.9959 (+/-0.0035) for {'C': 10000, 'gamma': 0.03, 'kernel': 'rbf'}\n",
      "0.9931 (+/-0.0083) for {'C': 10000, 'gamma': 0.04, 'kernel': 'rbf'}\n",
      "Best parameters set found on development set:\n",
      "\n",
      "{'C': 5000, 'gamma': 0.01, 'kernel': 'rbf'} \n",
      "\n",
      "Grid scores on development set:\n",
      "\n"
     ]
    }
   ],
   "source": [
    "svr = svm.SVR()\n",
    "\n",
    "# select variety of SVR hyperparameters to try out\n",
    "param_grid = [{'C': [10, 100, 1000, 5000, 10000], 'gamma': [0.005, 0.0075, 0.01, 0.02, 0.03, 0.04], 'kernel': ['rbf']}]\n",
    "svr_grid = GridSearchCV(svr, param_grid, scoring='r2')\n",
    "svr_grid.fit(X_train, y_train)\n",
    "\n",
    "means = svr_grid.cv_results_['mean_test_score']\n",
    "stds = svr_grid.cv_results_['std_test_score']\n",
    "for mean, std, params in zip(means, stds, svr_grid.cv_results_['params']):\n",
    "    print(\"%0.4f (+/-%0.04f) for %r\"\n",
    "          % (mean, std * 2, params))\n",
    "print(\"Best parameters set found on development set:\\n\")\n",
    "print(svr_grid.best_params_,\"\\n\")\n",
    "print(\"Grid scores on development set:\\n\")"
   ]
  },
  {
   "cell_type": "code",
   "execution_count": 27,
   "metadata": {},
   "outputs": [],
   "source": [
    "# Save otpimal hyperparameters, train, and predict on test data\n",
    "gamma_opt = svr_grid.best_params_['gamma']\n",
    "C_opt = svr_grid.best_params_['C']\n",
    "\n",
    "# train SVR on training data\n",
    "svr = svm.SVR(C=C_opt, gamma=gamma_opt)\n",
    "svr.fit(X_train, y_train)\n",
    "\n",
    "# compute predictions on test data\n",
    "preds = svr.predict(X_test)"
   ]
  },
  {
   "cell_type": "markdown",
   "metadata": {},
   "source": [
    "Analyze model's predictions on test data"
   ]
  },
  {
   "cell_type": "code",
   "execution_count": 28,
   "metadata": {},
   "outputs": [
    {
     "data": {
      "image/png": "[encoded data removed]",
      "text/plain": [
       "<Figure size 504x468 with 1 Axes>"
      ]
     },
     "metadata": {
      "needs_background": "light"
     },
     "output_type": "display_data"
    },
    {
     "data": {
      "image/png": "[encoded data removed]",
      "text/plain": [
       "<Figure size 504x216 with 1 Axes>"
      ]
     },
     "metadata": {
      "needs_background": "light"
     },
     "output_type": "display_data"
    },
    {
     "name": "stdout",
     "output_type": "stream",
     "text": [
      "root mean square 1.7684831390785644e-06\n",
      "average relative error 0.22098316105728644 +/- 0.25224848936906796\n",
      "r squared 0.9967427602304509\n"
     ]
    }
   ],
   "source": [
    "# convert scale predictions and ys back\n",
    "preds_times = scalery.inverse_transform(preds)\n",
    "y_test_times = scalery.inverse_transform(y_test)\n",
    "\n",
    "plt.figure(figsize=(7,6.5))\n",
    "plt.scatter(y_test_times*1e6, preds_times*1e6)\n",
    "plt.plot(preds_times*1e6 , preds_times*1e6, '-r')\n",
    "plt.xlabel(r'exact ($\\mu$s)')\n",
    "plt.ylabel(r'prediction ($\\mu$s)')\n",
    "plt.title('SVR pred vs actual')\n",
    "plt.grid()\n",
    "plt.show()\n",
    "\n",
    "rel_errors = np.abs((preds_times - y_test_times)/y_test_times)\n",
    "\n",
    "plt.figure(figsize=(7,3))\n",
    "plt.scatter(y_test_times*1e6, rel_errors)\n",
    "plt.title('Relative error between exact and prediction')\n",
    "plt.xlabel(r'exact ($\\mu$s)')\n",
    "plt.ylabel('relative error')\n",
    "plt.yscale('log')\n",
    "plt.grid()\n",
    "plt.show()\n",
    "\n",
    "print('root mean square', np.sqrt(np.mean((y_test_times - preds_times)**2)))\n",
    "print('average relative error', np.mean(rel_errors), '+/-', np.std(rel_errors))\n",
    "correlation_matrix = np.corrcoef(y_test_times, preds_times)\n",
    "correlation_xy = correlation_matrix[0,1]\n",
    "r_squared = correlation_xy**2\n",
    "print('r squared', r_squared)"
   ]
  },
  {
   "cell_type": "markdown",
   "metadata": {},
   "source": [
    "## SVR for first-order optimal\n",
    "Optimal is a bit tricky with ML models because for different numbers of pulses, the output pulse schedule has a different length with unique values. One way to account for this is to pad the training data outputs with zeros. Unfortunately, this will limit the model to the number of pulses considered in the training set and won't be able to extrapolate to higher numbers of pulses."
   ]
  },
  {
   "cell_type": "code",
   "execution_count": 30,
   "metadata": {},
   "outputs": [
    {
     "name": "stderr",
     "output_type": "stream",
     "text": [
      "  4%|▍         | 2/50 [01:10<39:22, 49.23s/it]"
     ]
    },
    {
     "name": "stdout",
     "output_type": "stream",
     "text": [
      "Bound error. Upper bound limited optimization. Increase upper bound.\n"
     ]
    },
    {
     "name": "stderr",
     "output_type": "stream",
     "text": [
      "\r",
      "  6%|▌         | 3/50 [02:12<41:23, 52.84s/it]"
     ]
    },
    {
     "name": "stdout",
     "output_type": "stream",
     "text": [
      "Bound error. Upper bound limited optimization. Increase upper bound.\n"
     ]
    },
    {
     "name": "stderr",
     "output_type": "stream",
     "text": [
      " 20%|██        | 10/50 [08:32<46:57, 70.43s/it]"
     ]
    },
    {
     "name": "stdout",
     "output_type": "stream",
     "text": [
      "Bound error. Upper bound limited optimization. Increase upper bound.\n"
     ]
    },
    {
     "name": "stderr",
     "output_type": "stream",
     "text": [
      " 24%|██▍       | 12/50 [09:23<28:36, 45.17s/it]"
     ]
    },
    {
     "name": "stdout",
     "output_type": "stream",
     "text": [
      "Bound error. Upper bound limited optimization. Increase upper bound.\n"
     ]
    },
    {
     "name": "stderr",
     "output_type": "stream",
     "text": [
      " 32%|███▏      | 16/50 [14:32<34:54, 61.60s/it]"
     ]
    },
    {
     "name": "stdout",
     "output_type": "stream",
     "text": [
      "Bound error. Upper bound limited optimization. Increase upper bound.\n"
     ]
    },
    {
     "name": "stderr",
     "output_type": "stream",
     "text": [
      " 36%|███▌      | 18/50 [15:57<25:40, 48.14s/it]"
     ]
    },
    {
     "name": "stdout",
     "output_type": "stream",
     "text": [
      "Bound error. Upper bound limited optimization. Increase upper bound.\n"
     ]
    },
    {
     "name": "stderr",
     "output_type": "stream",
     "text": [
      " 50%|█████     | 25/50 [19:15<13:02, 31.30s/it]"
     ]
    },
    {
     "name": "stdout",
     "output_type": "stream",
     "text": [
      "Bound error. Upper bound limited optimization. Increase upper bound.\n"
     ]
    },
    {
     "name": "stderr",
     "output_type": "stream",
     "text": [
      "\r",
      " 52%|█████▏    | 26/50 [20:00<14:08, 35.35s/it]"
     ]
    },
    {
     "name": "stdout",
     "output_type": "stream",
     "text": [
      "Bound error. Upper bound limited optimization. Increase upper bound.\n"
     ]
    },
    {
     "name": "stderr",
     "output_type": "stream",
     "text": [
      " 86%|████████▌ | 43/50 [31:08<04:54, 42.01s/it]"
     ]
    },
    {
     "name": "stdout",
     "output_type": "stream",
     "text": [
      "Bound error. Upper bound limited optimization. Increase upper bound.\n"
     ]
    },
    {
     "name": "stderr",
     "output_type": "stream",
     "text": [
      " 90%|█████████ | 45/50 [33:38<04:20, 52.07s/it]"
     ]
    },
    {
     "name": "stdout",
     "output_type": "stream",
     "text": [
      "Bound error. Upper bound limited optimization. Increase upper bound.\n"
     ]
    },
    {
     "name": "stderr",
     "output_type": "stream",
     "text": [
      " 98%|█████████▊| 49/50 [39:05<01:06, 66.52s/it]"
     ]
    },
    {
     "name": "stdout",
     "output_type": "stream",
     "text": [
      "Bound error. Upper bound limited optimization. Increase upper bound.\n"
     ]
    },
    {
     "name": "stderr",
     "output_type": "stream",
     "text": [
      "100%|██████████| 50/50 [39:24<00:00, 47.30s/it]\n"
     ]
    }
   ],
   "source": [
    "N_rand = 50\n",
    "\n",
    "omegas = 2*np.pi * np.linspace(1/(2 * 1e-6), 1/(2 * 50e-6), 100)\n",
    "omega_rands = np.random.choice(omegas, N_rand)\n",
    "\n",
    "# Assume eta and initial nbar are computable from confining harmonic frequency omega_z\n",
    "omega_zs = 2*np.pi * np.linspace(0.25, 6, 100) * 1e6\n",
    "omega_z_rands = np.random.choice(omega_zs, N_rand)\n",
    "\n",
    "lam = 355e-9\n",
    "hbar = 1.05457e-34\n",
    "m = 170.936 * 1.6605e-27\n",
    "eta_rands = np.sqrt(2) * 2*np.pi/lam * np.sqrt(hbar/2/m/omega_z_rands)\n",
    "\n",
    "initial_nbar_rands = 19.6e6/2/(omega_z_rands/2/np.pi)\n",
    "\n",
    "N_pulses_rands = np.random.choice(np.arange(5, 40), N_rand)\n",
    "\n",
    "strategy = 'optimal'\n",
    "cooled_nbars = []\n",
    "pulse_schedules = []\n",
    "for omega_z, initial_nbar, omega, N_pulses in tqdm(zip(omega_z_rands, initial_nbar_rands, omega_rands, N_pulses_rands), total=len(omega_z_rands)):\n",
    "    sim = simulation.SidebandCooling(omega_z, initial_nbar, omega)\n",
    "    cooled_nbar, pulse_schedule, cooling_time, cooled_dist = sim.cool(strategy, N_pulses, 1)\n",
    "    cooled_nbars.append(cooled_nbar)\n",
    "    pulse_schedules.append(pulse_schedule[0])\n",
    "    sim.reset_current_dist()\n",
    "\n",
    "# Simulate and save data\n",
    "pi_times = np.pi / omega_rands\n",
    "dataX = np.column_stack((eta_rands, pi_times, initial_nbar_rands, N_pulses_rands))\n",
    "dataY = np.array(pulse_schedules)"
   ]
  },
  {
   "cell_type": "code",
   "execution_count": 31,
   "metadata": {},
   "outputs": [],
   "source": [
    "# Save data into files\n",
    "with open('data/dataX_opt.npy', 'wb') as f:\n",
    "    np.save(f, dataX)\n",
    "with open('data/dataY_opt.npy', 'wb') as f:\n",
    "    np.save(f, dataY)"
   ]
  },
  {
   "cell_type": "code",
   "execution_count": 34,
   "metadata": {},
   "outputs": [],
   "source": [
    "# load saved data\n",
    "with open('data/dataX_opt.npy', 'rb') as f:\n",
    "    dataX = np.load(f)\n",
    "with open('data/dataY_opt.npy', 'rb') as f:\n",
    "    dataY = np.load(f)"
   ]
  },
  {
   "cell_type": "markdown",
   "metadata": {},
   "source": [
    "Preprocess data with a 1/3 test-train split and scale X and y"
   ]
  },
  {
   "cell_type": "code",
   "execution_count": 35,
   "metadata": {},
   "outputs": [],
   "source": [
    "# Preprocess data\n",
    "X_train, X_test, y_train, y_test = train_test_split(dataX, dataY, test_size=0.33, random_state=42)\n",
    "\n",
    "scalerX = preprocessing.StandardScaler().fit(X_train)\n",
    "scalery = preprocessing.StandardScaler().fit(y_train.reshape(-1,1))\n",
    "X_train = scalerX.transform(X_train)\n",
    "y_train = (scalery.transform(y_train.reshape(-1,1))).reshape(-1,)\n",
    "X_test = scalerX.transform(X_test)\n",
    "y_test = (scalery.transform(y_test.reshape(-1,1))).reshape(-1,)\n"
   ]
  },
  {
   "cell_type": "markdown",
   "metadata": {},
   "source": [
    "Use cross-validation to tune SVR hyperparameters"
   ]
  },
  {
   "cell_type": "code",
   "execution_count": 36,
   "metadata": {},
   "outputs": [
    {
     "name": "stdout",
     "output_type": "stream",
     "text": [
      "0.1204 (+/-0.4084) for {'C': 10, 'gamma': 0.005, 'kernel': 'rbf'}\n",
      "0.1559 (+/-0.4497) for {'C': 10, 'gamma': 0.0075, 'kernel': 'rbf'}\n",
      "0.1649 (+/-0.4410) for {'C': 10, 'gamma': 0.01, 'kernel': 'rbf'}\n",
      "0.1710 (+/-0.4252) for {'C': 10, 'gamma': 0.02, 'kernel': 'rbf'}\n",
      "0.1747 (+/-0.4397) for {'C': 10, 'gamma': 0.03, 'kernel': 'rbf'}\n",
      "0.1835 (+/-0.4481) for {'C': 10, 'gamma': 0.04, 'kernel': 'rbf'}\n",
      "0.2232 (+/-0.4460) for {'C': 100, 'gamma': 0.005, 'kernel': 'rbf'}\n",
      "0.2390 (+/-0.4434) for {'C': 100, 'gamma': 0.0075, 'kernel': 'rbf'}\n",
      "0.2457 (+/-0.4466) for {'C': 100, 'gamma': 0.01, 'kernel': 'rbf'}\n",
      "0.1257 (+/-0.3282) for {'C': 100, 'gamma': 0.02, 'kernel': 'rbf'}\n",
      "-0.4851 (+/-1.5133) for {'C': 100, 'gamma': 0.03, 'kernel': 'rbf'}\n",
      "-1.0385 (+/-3.6660) for {'C': 100, 'gamma': 0.04, 'kernel': 'rbf'}\n",
      "0.2005 (+/-0.4104) for {'C': 1000, 'gamma': 0.005, 'kernel': 'rbf'}\n",
      "-0.4486 (+/-2.1546) for {'C': 1000, 'gamma': 0.0075, 'kernel': 'rbf'}\n",
      "-1.3313 (+/-4.0215) for {'C': 1000, 'gamma': 0.01, 'kernel': 'rbf'}\n",
      "-3.3142 (+/-9.8735) for {'C': 1000, 'gamma': 0.02, 'kernel': 'rbf'}\n",
      "-2.5784 (+/-8.3659) for {'C': 1000, 'gamma': 0.03, 'kernel': 'rbf'}\n",
      "-0.7796 (+/-2.6879) for {'C': 1000, 'gamma': 0.04, 'kernel': 'rbf'}\n",
      "-2.7583 (+/-9.0723) for {'C': 5000, 'gamma': 0.005, 'kernel': 'rbf'}\n",
      "-5.4256 (+/-16.4922) for {'C': 5000, 'gamma': 0.0075, 'kernel': 'rbf'}\n",
      "-10.0024 (+/-35.5260) for {'C': 5000, 'gamma': 0.01, 'kernel': 'rbf'}\n",
      "-5.2628 (+/-18.7923) for {'C': 5000, 'gamma': 0.02, 'kernel': 'rbf'}\n",
      "-0.7502 (+/-4.1445) for {'C': 5000, 'gamma': 0.03, 'kernel': 'rbf'}\n",
      "-1.8762 (+/-5.9776) for {'C': 5000, 'gamma': 0.04, 'kernel': 'rbf'}\n",
      "-6.7119 (+/-21.1272) for {'C': 10000, 'gamma': 0.005, 'kernel': 'rbf'}\n",
      "-14.2099 (+/-52.1744) for {'C': 10000, 'gamma': 0.0075, 'kernel': 'rbf'}\n",
      "-19.1880 (+/-73.1021) for {'C': 10000, 'gamma': 0.01, 'kernel': 'rbf'}\n",
      "-2.7476 (+/-8.4600) for {'C': 10000, 'gamma': 0.02, 'kernel': 'rbf'}\n",
      "-3.8967 (+/-12.9110) for {'C': 10000, 'gamma': 0.03, 'kernel': 'rbf'}\n",
      "-7.2018 (+/-27.7764) for {'C': 10000, 'gamma': 0.04, 'kernel': 'rbf'}\n",
      "Best parameters set found on development set:\n",
      "\n",
      "{'C': 100, 'gamma': 0.01, 'kernel': 'rbf'} \n",
      "\n",
      "Grid scores on development set:\n",
      "\n"
     ]
    }
   ],
   "source": [
    "svr = svm.SVR()\n",
    "\n",
    "# select variety of SVR hyperparameters to try out\n",
    "param_grid = [{'C': [10, 100, 1000, 5000, 10000], 'gamma': [0.005, 0.0075, 0.01, 0.02, 0.03, 0.04], 'kernel': ['rbf']}]\n",
    "svr_grid = GridSearchCV(svr, param_grid, scoring='r2')\n",
    "svr_grid.fit(X_train, y_train)\n",
    "\n",
    "means = svr_grid.cv_results_['mean_test_score']\n",
    "stds = svr_grid.cv_results_['std_test_score']\n",
    "for mean, std, params in zip(means, stds, svr_grid.cv_results_['params']):\n",
    "    print(\"%0.4f (+/-%0.04f) for %r\"\n",
    "          % (mean, std * 2, params))\n",
    "print(\"Best parameters set found on development set:\\n\")\n",
    "print(svr_grid.best_params_,\"\\n\")\n",
    "print(\"Grid scores on development set:\\n\")"
   ]
  },
  {
   "cell_type": "code",
   "execution_count": 37,
   "metadata": {},
   "outputs": [],
   "source": [
    "# Save otpimal hyperparameters, train, and predict on test data\n",
    "gamma_opt = svr_grid.best_params_['gamma']\n",
    "C_opt = svr_grid.best_params_['C']\n",
    "\n",
    "# train SVR on training data\n",
    "svr = svm.SVR(C=C_opt, gamma=gamma_opt)\n",
    "svr.fit(X_train, y_train)\n",
    "\n",
    "# compute predictions on test data\n",
    "preds = svr.predict(X_test)"
   ]
  },
  {
   "cell_type": "code",
   "execution_count": 38,
   "metadata": {},
   "outputs": [
    {
     "data": {
      "image/png": "[encoded data removed]",
      "text/plain": [
       "<Figure size 504x468 with 1 Axes>"
      ]
     },
     "metadata": {
      "needs_background": "light"
     },
     "output_type": "display_data"
    },
    {
     "data": {
      "image/png": "[encoded data removed]",
      "text/plain": [
       "<Figure size 504x216 with 1 Axes>"
      ]
     },
     "metadata": {
      "needs_background": "light"
     },
     "output_type": "display_data"
    },
    {
     "name": "stdout",
     "output_type": "stream",
     "text": [
      "root mean square 5.1288214850871206e-05\n",
      "average relative error 0.5261748422601579 +/- 0.3843683862809093\n",
      "r squared 0.48339867431469\n"
     ]
    }
   ],
   "source": [
    "# convert scale predictions and ys back\n",
    "preds_times = scalery.inverse_transform(preds)\n",
    "y_test_times = scalery.inverse_transform(y_test)\n",
    "\n",
    "plt.figure(figsize=(7,6.5))\n",
    "plt.scatter(y_test_times*1e6, preds_times*1e6)\n",
    "plt.plot(preds_times*1e6 , preds_times*1e6, '-r')\n",
    "plt.xlabel(r'exact ($\\mu$s)')\n",
    "plt.ylabel(r'prediction ($\\mu$s)')\n",
    "plt.title('SVR pred vs actual')\n",
    "plt.grid()\n",
    "plt.show()\n",
    "\n",
    "rel_errors = np.abs((preds_times - y_test_times)/y_test_times)\n",
    "\n",
    "plt.figure(figsize=(7,3))\n",
    "plt.scatter(y_test_times*1e6, rel_errors)\n",
    "plt.title('Relative error between exact and prediction')\n",
    "plt.xlabel(r'exact ($\\mu$s)')\n",
    "plt.ylabel('relative error')\n",
    "plt.yscale('log')\n",
    "plt.grid()\n",
    "plt.show()\n",
    "\n",
    "print('root mean square', np.sqrt(np.mean((y_test_times - preds_times)**2)))\n",
    "print('average relative error', np.mean(rel_errors), '+/-', np.std(rel_errors))\n",
    "correlation_matrix = np.corrcoef(y_test_times, preds_times)\n",
    "correlation_xy = correlation_matrix[0,1]\n",
    "r_squared = correlation_xy**2\n",
    "print('r squared', r_squared)"
   ]
  },
  {
   "cell_type": "code",
   "execution_count": null,
   "metadata": {},
   "outputs": [],
   "source": []
  }
 ],
 "metadata": {
  "kernelspec": {
   "display_name": "Python 3",
   "language": "python",
   "name": "python3"
  },
  "language_info": {
   "codemirror_mode": {
    "name": "ipython",
    "version": 3
   },
   "file_extension": ".py",
   "mimetype": "text/x-python",
   "name": "python",
   "nbconvert_exporter": "python",
   "pygments_lexer": "ipython3",
   "version": "3.8.5"
  }
 },
 "nbformat": 4,
 "nbformat_minor": 4
}
