{
 "cells": [
  {
   "cell_type": "markdown",
   "metadata": {},
   "source": [
    "# Multi-ion Sideband Cooling\n",
    "\n",
    "See J. Homes thesis for details (Entanglement of Two Trapped-Ion Spin Qubits 2006)"
   ]
  },
  {
   "cell_type": "code",
   "execution_count": 102,
   "metadata": {},
   "outputs": [],
   "source": [
    "import numpy as np\n",
    "from scipy.linalg import expm\n",
    "\n",
    "import matplotlib.pyplot as plt\n"
   ]
  },
  {
   "cell_type": "code",
   "execution_count": 346,
   "metadata": {},
   "outputs": [
    {
     "data": {
      "text/plain": [
       "array([[      0.   ,  565486.678,  565486.678,       0.   ],\n",
       "       [-565486.678,       0.   ,       0.   ,  489725.828],\n",
       "       [-565486.678,       0.   ,       0.   ,  489725.828],\n",
       "       [      0.   , -489725.828, -489725.828,       0.   ]])"
      ]
     },
     "execution_count": 346,
     "metadata": {},
     "output_type": "execute_result"
    }
   ],
   "source": [
    "n = 4\n",
    "eta = 0.18\n",
    "Omega = 2*np.pi / (2*1e-6)\n",
    "\n",
    "H_rsb = eta*Omega/2 * np.array([[0, np.sqrt(n), np.sqrt(n),0],\n",
    "                    [-np.sqrt(n), 0, 0, np.sqrt(n-1)],\n",
    "                    [-np.sqrt(n), 0, 0, np.sqrt(n-1)],\n",
    "                    [0, -np.sqrt(n-1), -np.sqrt(n-1), 0]])\n",
    "\n",
    "np.round(H_rsb, 3)"
   ]
  },
  {
   "cell_type": "code",
   "execution_count": 347,
   "metadata": {},
   "outputs": [],
   "source": [
    "ts = np.linspace(0,2e6, 2000)*1e-6\n",
    "start_state = np.array([[1],[0],[0],[0]])\n",
    "end_state = np.array([[0],[0],[0],[1]])\n",
    "\n",
    "probs = []\n",
    "for t in ts:\n",
    "    U_homes = expm(H_homes * t)\n",
    "    probs.append(np.abs((end_state.T @ U_homes @ start_state)[0,0])**2)"
   ]
  },
  {
   "cell_type": "code",
   "execution_count": 348,
   "metadata": {},
   "outputs": [
    {
     "data": {
      "image/png": "[encoded data removed]",
      "text/plain": [
       "<Figure size 432x288 with 1 Axes>"
      ]
     },
     "metadata": {
      "needs_background": "light"
     },
     "output_type": "display_data"
    }
   ],
   "source": [
    "plt.plot(ts*1e6, probs)\n",
    "plt.xlabel(r'time ($\\mu$s)')\n",
    "plt.ylabel('prob')\n",
    "plt.grid()"
   ]
  },
  {
   "cell_type": "code",
   "execution_count": 304,
   "metadata": {},
   "outputs": [
    {
     "data": {
      "text/plain": [
       "[1.0,\n",
       " 0.8604183738037232,\n",
       " 0.5322812225806193,\n",
       " 0.21025943584353396,\n",
       " 0.03476147462871846,\n",
       " 0.00020931286862286053,\n",
       " 0.00825382571059362,\n",
       " 0.0005028274304733876,\n",
       " 0.029806098585616548,\n",
       " 0.19586026169714973]"
      ]
     },
     "execution_count": 304,
     "metadata": {},
     "output_type": "execute_result"
    }
   ],
   "source": [
    "probs\n"
   ]
  },
  {
   "cell_type": "code",
   "execution_count": null,
   "metadata": {},
   "outputs": [],
   "source": []
  }
 ],
 "metadata": {
  "kernelspec": {
   "display_name": "Python 3",
   "language": "python",
   "name": "python3"
  },
  "language_info": {
   "codemirror_mode": {
    "name": "ipython",
    "version": 3
   },
   "file_extension": ".py",
   "mimetype": "text/x-python",
   "name": "python",
   "nbconvert_exporter": "python",
   "pygments_lexer": "ipython3",
   "version": "3.8.5"
  }
 },
 "nbformat": 4,
 "nbformat_minor": 4
}
